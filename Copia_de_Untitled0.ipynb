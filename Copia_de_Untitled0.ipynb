{
  "nbformat": 4,
  "nbformat_minor": 0,
  "metadata": {
    "colab": {
      "name": "Copia de Untitled0.ipynb",
      "provenance": [],
      "authorship_tag": "ABX9TyMX4emalmOL8y0E65pAkVWM",
      "include_colab_link": true
    },
    "kernelspec": {
      "name": "python3",
      "display_name": "Python 3"
    },
    "language_info": {
      "name": "python"
    }
  },
  "cells": [
    {
      "cell_type": "markdown",
      "metadata": {
        "id": "view-in-github",
        "colab_type": "text"
      },
      "source": [
        "<a href=\"https://colab.research.google.com/github/marinho14/IA_coefficient_of_determination/blob/main/Copia_de_Untitled0.ipynb\" target=\"_parent\"><img src=\"https://colab.research.google.com/assets/colab-badge.svg\" alt=\"Open In Colab\"/></a>"
      ]
    },
    {
      "cell_type": "markdown",
      "metadata": {
        "id": "NNwQ20VLpdSq"
      },
      "source": [
        "# 1. Coefficient of determination\n",
        "\n"
      ]
    },
    {
      "cell_type": "code",
      "metadata": {
        "id": "SX6C60hvpVxa"
      },
      "source": [
        "## Se importan las librerias\n",
        "import numpy as np\n",
        "import matplotlib.pyplot as plt\n",
        "import time\n",
        "import pandas as pd"
      ],
      "execution_count": 2,
      "outputs": []
    },
    {
      "cell_type": "code",
      "metadata": {
        "id": "HcLFxBD2q92q"
      },
      "source": [
        "## Se define la hopotesis\n",
        "def hipotesis(theta0,theta1,x):\n",
        "  estimados = theta0 + theta1*x\n",
        "  return estimados"
      ],
      "execution_count": 3,
      "outputs": []
    },
    {
      "cell_type": "code",
      "metadata": {
        "id": "d4QxjZpxrBI5"
      },
      "source": [
        "## Se define la función costo\n",
        "def funcCosto(arr_1, arr_2):\n",
        "  J = np.power(arr_1-arr_2,2)\n",
        "  return np.sum(J)/(2*len(J))"
      ],
      "execution_count": 4,
      "outputs": []
    },
    {
      "cell_type": "code",
      "metadata": {
        "id": "fuPveRAArFtr"
      },
      "source": [
        "def gradienteTheta0(theta0Actual,theta1Actual,x,y):\n",
        "  substra = hipotesis(theta0Actual,theta1Actual,x) - y\n",
        "  pasoTheta0 = (1/x.shape[0])*(np.sum(substra))\n",
        "  return pasoTheta0\n",
        "\n",
        "def gradienteTheta1(theta0Actual,theta1Actual,x,y):\n",
        "  pasoTheta1 = (1/x.shape[0])*np.sum((hipotesis(theta0Actual,theta1Actual,x)-y)*x)\n",
        "  return pasoTheta1\n",
        "\n",
        "\n",
        "def pasoDescensoGradiente(theta0Actual,theta1Actual,x,y,alpha):\n",
        "  nuevoTheta0 = theta0Actual - alpha*gradienteTheta0(theta0Actual,theta1Actual,x,y)\n",
        "  nuevoTheta1 = theta1Actual - alpha*gradienteTheta1(theta0Actual,theta1Actual,x,y)\n",
        "  return (nuevoTheta0,nuevoTheta1)"
      ],
      "execution_count": 5,
      "outputs": []
    },
    {
      "cell_type": "code",
      "metadata": {
        "id": "UtOF8xkMrN-z"
      },
      "source": [
        "## Datos\n",
        "x = np.array([1, 1.5, 2, 2.5, 3, 3.5, 4, 4.5, 5, 5.5, 6])\n",
        "y = np.array([0.169610271922408, 0.283395812542308, 0.386358737510785, 0.470227872390909, 0.433281293764675, 0.600267648212653, 0.738338980436742, 0.790315020494445, 0.877464268422459, 0.84356446225183, 0.96443891694455])\n"
      ],
      "execution_count": 6,
      "outputs": []
    },
    {
      "cell_type": "code",
      "metadata": {
        "colab": {
          "base_uri": "https://localhost:8080/"
        },
        "id": "emioRVr1rTdf",
        "outputId": "5fdc3f78-aac4-47a0-9004-f4d19ec58743"
      },
      "source": [
        "from typing import TYPE_CHECKING\n",
        "theta0 = 0.2\n",
        "theta1 = 0.01\n",
        "iter = 10000\n",
        "alpha = (0.05/10)/10*2*2*2*2*2*2\n",
        "print(alpha)\n",
        "J = list()\n",
        "J.append(funcCosto(hipotesis(theta0,theta1,x),y))\n",
        "for i in range(iter):\n",
        "  # Para cada iteración calcular los nuevos parámetros de la hipótesis\n",
        "  (theta0n,theta1n) = pasoDescensoGradiente(theta0,theta1,x,y,alpha)\n",
        "  #print(\"diferencia: \",theta0n-theta0)\n",
        "  J.append(funcCosto(hipotesis(theta0,theta1,x),y))\n",
        "  if (np.abs(theta0n-theta0))<1e-11: # Criterio de parada por variación de paŕametros\n",
        "    ##print(\"\",np.abs(theta0n-theta0))\n",
        "    break\n",
        "  theta0 = theta0n\n",
        "  theta1 = theta1n\n",
        "\n",
        "print(theta0)\n",
        "print(theta1)\n",
        "\n"
      ],
      "execution_count": 7,
      "outputs": [
        {
          "output_type": "stream",
          "name": "stdout",
          "text": [
            "0.032\n",
            "0.04671880241272206\n",
            "0.1569702977084677\n"
          ]
        }
      ]
    },
    {
      "cell_type": "code",
      "metadata": {
        "colab": {
          "base_uri": "https://localhost:8080/"
        },
        "id": "KCoQhJxjs7iR",
        "outputId": "69214fdc-6a36-44ed-caa1-6381b545ccd8"
      },
      "source": [
        "## Se encuentra el coeficiente de determinación a partir de los parametros\n",
        "fi=theta0 + theta1*x\n",
        "y_prom= np.sum(y)/len(y)\n",
        "ss_res= np.sum((y-fi)**2)\n",
        "ss_tot= np.sum((y-y_prom)**2)\n",
        "R_cuadrado= 1- ss_res/ss_tot\n",
        "print(\"El coeficiente de determinación es:\",R_cuadrado)"
      ],
      "execution_count": 10,
      "outputs": [
        {
          "output_type": "stream",
          "name": "stdout",
          "text": [
            "El coeficiente de determinación es: 0.9678913144832825\n"
          ]
        }
      ]
    }
  ]
}